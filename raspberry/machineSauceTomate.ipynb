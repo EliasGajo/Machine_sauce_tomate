{
 "cells": [
  {
   "cell_type": "markdown",
   "id": "7fd4fe76-aa69-4f35-9f1f-649dff902d8f",
   "metadata": {},
   "source": [
    "## Aquisition de l'image"
   ]
  },
  {
   "cell_type": "code",
   "execution_count": 1,
   "id": "55474f93-1b6e-4881-9328-dd15920c0d55",
   "metadata": {},
   "outputs": [],
   "source": [
    "import subprocess"
   ]
  },
  {
   "cell_type": "code",
   "execution_count": 5,
   "id": "5bf9b444-13e0-4fed-ab93-5289bfb8a049",
   "metadata": {},
   "outputs": [
    {
     "name": "stderr",
     "output_type": "stream",
     "text": [
      "\u001b[1m--- Opening /dev/video0...\n",
      "\u001b[0m\u001b[0mTrying source module v4l2...\n",
      "\u001b[0m\u001b[0m/dev/video0 opened.\n",
      "\u001b[0m\u001b[0mNo input was specified, using the first.\n",
      "\u001b[0m\u001b[1m--- Capturing frame...\n",
      "\u001b[0m\u001b[0mCaptured frame in 0.00 seconds.\n",
      "\u001b[0m\u001b[1m--- Processing captured image...\n",
      "\u001b[0m\u001b[0mDisabling banner.\n",
      "\u001b[0m\u001b[0mWriting JPEG image to 'images/bacATomates.jpg'.\n",
      "\u001b[0m"
     ]
    },
    {
     "data": {
      "text/plain": [
       "CompletedProcess(args='fswebcam -r 1280x720 --no-banner images/bacATomates.jpg', returncode=0)"
      ]
     },
     "execution_count": 5,
     "metadata": {},
     "output_type": "execute_result"
    }
   ],
   "source": [
    "subprocess.run('fswebcam -r 1280x720 --no-banner images/bacATomates.jpg', shell=True)"
   ]
  },
  {
   "cell_type": "code",
   "execution_count": null,
   "id": "3eee34c9-2b4b-4e8f-bc53-3c9a26fae1c4",
   "metadata": {},
   "outputs": [],
   "source": []
  }
 ],
 "metadata": {
  "kernelspec": {
   "display_name": "Python 3 (ipykernel)",
   "language": "python",
   "name": "python3"
  },
  "language_info": {
   "codemirror_mode": {
    "name": "ipython",
    "version": 3
   },
   "file_extension": ".py",
   "mimetype": "text/x-python",
   "name": "python",
   "nbconvert_exporter": "python",
   "pygments_lexer": "ipython3",
   "version": "3.11.2"
  }
 },
 "nbformat": 4,
 "nbformat_minor": 5
}
